{
 "cells": [
  {
   "cell_type": "markdown",
   "metadata": {},
   "source": [
    "## Support vector machines\n"
   ]
  },
  {
   "cell_type": "code",
   "execution_count": 1,
   "metadata": {},
   "outputs": [
    {
     "name": "stdout",
     "output_type": "stream",
     "text": [
      "['pixels', 'overfeat', 'labels', 'names', 'allow_pickle']\n",
      "X: (5000, 4096) float32\n",
      "y: (5000,) int64\n"
     ]
    }
   ],
   "source": [
    "import numpy as np\n",
    "\n",
    "with np.load('cifar4-train.npz', allow_pickle = False) as npz_file:\n",
    "    cifar4_data = dict(npz_file.items())\n",
    "    \n",
    "print(list(cifar4_data.keys()))\n",
    "\n",
    "X = cifar4_data['overfeat']\n",
    "y = cifar4_data['labels']\n",
    "\n",
    "print('X:', X.shape, X.dtype)\n",
    "print('y:', y.shape, y.dtype)"
   ]
  },
  {
   "cell_type": "code",
   "execution_count": 2,
   "metadata": {},
   "outputs": [
    {
     "name": "stdout",
     "output_type": "stream",
     "text": [
      "Train set: (4000, 4096) (4000,)\n",
      "Test set: (1000, 4096) (1000,)\n"
     ]
    }
   ],
   "source": [
    "from sklearn.model_selection import train_test_split\n",
    "\n",
    "# Convert the type of the input matrix to float\n",
    "X = X.astype(np.float)\n",
    "\n",
    "# Split data into train/test sets keeping same proportion of classes\n",
    "X_tr, X_te, y_tr, y_te = train_test_split(\n",
    "    X, y, train_size=4000, test_size=1000, random_state=0, stratify = y)\n",
    "\n",
    "print ('Train set:', X_tr.shape, y_tr.shape)\n",
    "print('Test set:', X_te.shape, y_te.shape)"
   ]
  },
  {
   "cell_type": "markdown",
   "metadata": {},
   "source": [
    "### Create an SVM classifier with a linear kernel. Tune its C  parameter."
   ]
  },
  {
   "cell_type": "code",
   "execution_count": 3,
   "metadata": {},
   "outputs": [
    {
     "data": {
      "text/plain": [
       "dict_keys(['C', 'class_weight', 'dual', 'fit_intercept', 'intercept_scaling', 'loss', 'max_iter', 'multi_class', 'penalty', 'random_state', 'tol', 'verbose'])"
      ]
     },
     "execution_count": 3,
     "metadata": {},
     "output_type": "execute_result"
    }
   ],
   "source": [
    "from sklearn.svm import LinearSVC\n",
    "from sklearn.svm import SVC\n",
    "from sklearn.model_selection import GridSearchCV\n",
    "from sklearn.pipeline import Pipeline\n",
    "from sklearn.preprocessing import StandardScaler\n",
    "from sklearn.decomposition import PCA\n",
    "\n",
    "LinearSVC().get_params().keys()"
   ]
  },
  {
   "cell_type": "code",
   "execution_count": 8,
   "metadata": {},
   "outputs": [
    {
     "data": {
      "text/plain": [
       "dict_keys(['mean_fit_time', 'std_fit_time', 'mean_score_time', 'std_score_time', 'param_linear_svc__C', 'params', 'split0_test_score', 'split1_test_score', 'split2_test_score', 'split3_test_score', 'split4_test_score', 'mean_test_score', 'std_test_score', 'rank_test_score', 'split0_train_score', 'split1_train_score', 'split2_train_score', 'split3_train_score', 'split4_train_score', 'mean_train_score', 'std_train_score'])"
      ]
     },
     "execution_count": 8,
     "metadata": {},
     "output_type": "execute_result"
    }
   ],
   "source": [
    "# create Pipeline \n",
    "#I use PCA as a preprocessing step  to to reduce number of dimensions and improve speed, \n",
    "    # with number of components containing 90% of the PVE to keep maximum variance of data\n",
    "\n",
    "pipe = Pipeline([\n",
    "    ('scaler', StandardScaler()),\n",
    "    ('pca', PCA(n_components= 165)), \n",
    "    ('linear_svc', LinearSVC())\n",
    "])\n",
    "\n",
    "#Tune the parameters using grid search with cross-validation. Use the stratified 5-fold strategy\n",
    "grid = {'linear_svc__C': [0.001, 0.01, 0.1, 1, 10]}\n",
    "\n",
    "grid_cv = GridSearchCV(pipe, grid, cv=5)\n",
    "grid_cv.fit(X_tr,y_tr)\n",
    "grid_cv.cv_results_.keys()"
   ]
  },
  {
   "cell_type": "code",
   "execution_count": 9,
   "metadata": {},
   "outputs": [
    {
     "data": {
      "text/html": [
       "<div>\n",
       "<style scoped>\n",
       "    .dataframe tbody tr th:only-of-type {\n",
       "        vertical-align: middle;\n",
       "    }\n",
       "\n",
       "    .dataframe tbody tr th {\n",
       "        vertical-align: top;\n",
       "    }\n",
       "\n",
       "    .dataframe thead th {\n",
       "        text-align: right;\n",
       "    }\n",
       "</style>\n",
       "<table border=\"1\" class=\"dataframe\">\n",
       "  <thead>\n",
       "    <tr style=\"text-align: right;\">\n",
       "      <th></th>\n",
       "      <th>C</th>\n",
       "      <th>mean_score</th>\n",
       "      <th>std_score</th>\n",
       "    </tr>\n",
       "  </thead>\n",
       "  <tbody>\n",
       "    <tr>\n",
       "      <th>1</th>\n",
       "      <td>0.01</td>\n",
       "      <td>0.83075</td>\n",
       "      <td>0.013337</td>\n",
       "    </tr>\n",
       "    <tr>\n",
       "      <th>0</th>\n",
       "      <td>0.001</td>\n",
       "      <td>0.83050</td>\n",
       "      <td>0.015604</td>\n",
       "    </tr>\n",
       "    <tr>\n",
       "      <th>2</th>\n",
       "      <td>0.1</td>\n",
       "      <td>0.82675</td>\n",
       "      <td>0.015524</td>\n",
       "    </tr>\n",
       "    <tr>\n",
       "      <th>3</th>\n",
       "      <td>1</td>\n",
       "      <td>0.77950</td>\n",
       "      <td>0.014590</td>\n",
       "    </tr>\n",
       "    <tr>\n",
       "      <th>4</th>\n",
       "      <td>10</td>\n",
       "      <td>0.75800</td>\n",
       "      <td>0.021889</td>\n",
       "    </tr>\n",
       "  </tbody>\n",
       "</table>\n",
       "</div>"
      ],
      "text/plain": [
       "       C  mean_score  std_score\n",
       "1   0.01     0.83075   0.013337\n",
       "0  0.001     0.83050   0.015604\n",
       "2    0.1     0.82675   0.015524\n",
       "3      1     0.77950   0.014590\n",
       "4     10     0.75800   0.021889"
      ]
     },
     "execution_count": 9,
     "metadata": {},
     "output_type": "execute_result"
    }
   ],
   "source": [
    "# Collect the results in a DataFrame with a column for the mean and the standard deviation of the accuracy values across all folds. \n",
    "#For the linear kernel, your DataFrame will have one row for each C  value.\n",
    "\n",
    "import pandas as pd\n",
    "df = pd.DataFrame.from_items([\n",
    "    ('C', grid_cv.cv_results_['param_linear_svc__C']),\n",
    "    ('mean_score', grid_cv.cv_results_['mean_test_score']),\n",
    "    ('std_score', grid_cv.cv_results_['std_test_score'])\n",
    "])\n",
    "df.sort_values(by='mean_score', ascending=False)"
   ]
  },
  {
   "cell_type": "code",
   "execution_count": 10,
   "metadata": {},
   "outputs": [
    {
     "name": "stdout",
     "output_type": "stream",
     "text": [
      "Linear SVM - top accuracy across folds: 0.83 (std:0.013) with C: 0.01\n"
     ]
    },
    {
     "name": "stderr",
     "output_type": "stream",
     "text": [
      "C:\\Users\\User1\\AppData\\Roaming\\Python\\Python36\\site-packages\\numpy\\core\\fromnumeric.py:56: FutureWarning: 'argmax' is deprecated. Use 'idxmax' instead. The behavior of 'argmax' will be corrected to return the positional maximum in the future. Use 'series.values.argmax' to get the position of the maximum now.\n",
      "  return getattr(obj, method)(*args, **kwds)\n"
     ]
    }
   ],
   "source": [
    "#Find the C value with the best mean accuracy and print it.\n",
    "\n",
    "idx = np.argmax(df.mean_score)\n",
    "top_accuracy = df.mean_score[idx]\n",
    "std_score = df.std_score[idx]\n",
    "c = df.C[idx]\n",
    "print('Linear SVM - top accuracy across folds: {:.2f} (std:{:.3f}) with C: {}'.format(top_accuracy, std_score,c))\n"
   ]
  },
  {
   "cell_type": "markdown",
   "metadata": {},
   "source": [
    "### Create an SVM classifier with an RBF kernel. Tune its C and γ parameters"
   ]
  },
  {
   "cell_type": "code",
   "execution_count": 4,
   "metadata": {},
   "outputs": [
    {
     "data": {
      "text/plain": [
       "dict_keys(['C', 'cache_size', 'class_weight', 'coef0', 'decision_function_shape', 'degree', 'gamma', 'kernel', 'max_iter', 'probability', 'random_state', 'shrinking', 'tol', 'verbose'])"
      ]
     },
     "execution_count": 4,
     "metadata": {},
     "output_type": "execute_result"
    }
   ],
   "source": [
    "SVC().get_params().keys()"
   ]
  },
  {
   "cell_type": "code",
   "execution_count": 11,
   "metadata": {},
   "outputs": [
    {
     "data": {
      "text/plain": [
       "dict_keys(['mean_fit_time', 'std_fit_time', 'mean_score_time', 'std_score_time', 'param_svc__C', 'param_svc__gamma', 'param_svc__kernel', 'params', 'split0_test_score', 'split1_test_score', 'split2_test_score', 'split3_test_score', 'split4_test_score', 'mean_test_score', 'std_test_score', 'rank_test_score', 'split0_train_score', 'split1_train_score', 'split2_train_score', 'split3_train_score', 'split4_train_score', 'mean_train_score', 'std_train_score'])"
      ]
     },
     "execution_count": 11,
     "metadata": {},
     "output_type": "execute_result"
    }
   ],
   "source": [
    "#Tune the C and γ parameters using grid search with cross-validation.\n",
    "\n",
    "pipe2 = Pipeline([\n",
    "    ('scaler', StandardScaler()),\n",
    "    ('pca', PCA(n_components=60)), #number of components containing 80% of the PVE (result is better than with larger number of components)\n",
    "    ('svc', SVC())\n",
    "])\n",
    "\n",
    "grid2 = {\n",
    "    'svc__C': [ 0.01, 0.1, 1],\n",
    "    'svc__gamma': [0.001, 0.01, 0.1],\n",
    "    'svc__kernel': ['rbf']\n",
    "}\n",
    "\n",
    "grid_cv2 = GridSearchCV(pipe2, grid2, cv=5)\n",
    "grid_cv2.fit(X_tr,y_tr)\n",
    "grid_cv2.cv_results_.keys()"
   ]
  },
  {
   "cell_type": "code",
   "execution_count": 12,
   "metadata": {},
   "outputs": [
    {
     "data": {
      "text/html": [
       "<div>\n",
       "<style scoped>\n",
       "    .dataframe tbody tr th:only-of-type {\n",
       "        vertical-align: middle;\n",
       "    }\n",
       "\n",
       "    .dataframe tbody tr th {\n",
       "        vertical-align: top;\n",
       "    }\n",
       "\n",
       "    .dataframe thead th {\n",
       "        text-align: right;\n",
       "    }\n",
       "</style>\n",
       "<table border=\"1\" class=\"dataframe\">\n",
       "  <thead>\n",
       "    <tr style=\"text-align: right;\">\n",
       "      <th></th>\n",
       "      <th>C</th>\n",
       "      <th>γ_values</th>\n",
       "      <th>mean_score</th>\n",
       "      <th>std_score</th>\n",
       "    </tr>\n",
       "  </thead>\n",
       "  <tbody>\n",
       "    <tr>\n",
       "      <th>6</th>\n",
       "      <td>1</td>\n",
       "      <td>0.001</td>\n",
       "      <td>0.79875</td>\n",
       "      <td>0.006275</td>\n",
       "    </tr>\n",
       "    <tr>\n",
       "      <th>5</th>\n",
       "      <td>0.1</td>\n",
       "      <td>0.1</td>\n",
       "      <td>0.68725</td>\n",
       "      <td>0.005668</td>\n",
       "    </tr>\n",
       "    <tr>\n",
       "      <th>2</th>\n",
       "      <td>0.01</td>\n",
       "      <td>0.1</td>\n",
       "      <td>0.68675</td>\n",
       "      <td>0.005734</td>\n",
       "    </tr>\n",
       "    <tr>\n",
       "      <th>3</th>\n",
       "      <td>0.1</td>\n",
       "      <td>0.001</td>\n",
       "      <td>0.63375</td>\n",
       "      <td>0.017357</td>\n",
       "    </tr>\n",
       "    <tr>\n",
       "      <th>0</th>\n",
       "      <td>0.01</td>\n",
       "      <td>0.001</td>\n",
       "      <td>0.53325</td>\n",
       "      <td>0.012263</td>\n",
       "    </tr>\n",
       "    <tr>\n",
       "      <th>7</th>\n",
       "      <td>1</td>\n",
       "      <td>0.01</td>\n",
       "      <td>0.30550</td>\n",
       "      <td>0.004783</td>\n",
       "    </tr>\n",
       "    <tr>\n",
       "      <th>4</th>\n",
       "      <td>0.1</td>\n",
       "      <td>0.01</td>\n",
       "      <td>0.25175</td>\n",
       "      <td>0.001275</td>\n",
       "    </tr>\n",
       "    <tr>\n",
       "      <th>1</th>\n",
       "      <td>0.01</td>\n",
       "      <td>0.01</td>\n",
       "      <td>0.25150</td>\n",
       "      <td>0.000935</td>\n",
       "    </tr>\n",
       "    <tr>\n",
       "      <th>8</th>\n",
       "      <td>1</td>\n",
       "      <td>0.1</td>\n",
       "      <td>0.25050</td>\n",
       "      <td>0.001000</td>\n",
       "    </tr>\n",
       "  </tbody>\n",
       "</table>\n",
       "</div>"
      ],
      "text/plain": [
       "      C γ_values  mean_score  std_score\n",
       "6     1    0.001     0.79875   0.006275\n",
       "5   0.1      0.1     0.68725   0.005668\n",
       "2  0.01      0.1     0.68675   0.005734\n",
       "3   0.1    0.001     0.63375   0.017357\n",
       "0  0.01    0.001     0.53325   0.012263\n",
       "7     1     0.01     0.30550   0.004783\n",
       "4   0.1     0.01     0.25175   0.001275\n",
       "1  0.01     0.01     0.25150   0.000935\n",
       "8     1      0.1     0.25050   0.001000"
      ]
     },
     "execution_count": 12,
     "metadata": {},
     "output_type": "execute_result"
    }
   ],
   "source": [
    "# Collect the results in a DataFrame with a column for the mean and the standard deviation of the accuracy values across all folds. \n",
    "#The DataFrame for the RBF kernel will have one row for each C  value and an additional column for the γ  values\n",
    "\n",
    "import pandas as pd\n",
    "df2 = pd.DataFrame.from_items([\n",
    "    ('C', grid_cv2.cv_results_['param_svc__C']),\n",
    "    ('γ_values', grid_cv2.cv_results_['param_svc__gamma']),\n",
    "    ('mean_score', grid_cv2.cv_results_['mean_test_score']),\n",
    "    ('std_score', grid_cv2.cv_results_['std_test_score'])\n",
    "])\n",
    "df2.sort_values(by='mean_score', ascending=False)\n"
   ]
  },
  {
   "cell_type": "code",
   "execution_count": 13,
   "metadata": {},
   "outputs": [
    {
     "name": "stdout",
     "output_type": "stream",
     "text": [
      "RBF SVM - top accuracy across folds: 0.80 (std:0.006) with C: 1 and gamma:0.001\n"
     ]
    },
    {
     "name": "stderr",
     "output_type": "stream",
     "text": [
      "C:\\Users\\User1\\AppData\\Roaming\\Python\\Python36\\site-packages\\numpy\\core\\fromnumeric.py:56: FutureWarning: 'argmax' is deprecated. Use 'idxmax' instead. The behavior of 'argmax' will be corrected to return the positional maximum in the future. Use 'series.values.argmax' to get the position of the maximum now.\n",
      "  return getattr(obj, method)(*args, **kwds)\n"
     ]
    }
   ],
   "source": [
    "#Find the combination of C and γ with the best mean accuracy and print it\n",
    "\n",
    "idx2 = np.argmax(df2.mean_score)\n",
    "top_accuracy2 = df2.mean_score[idx2]\n",
    "std_score2 = df2.std_score[idx2]\n",
    "c2 = df2.C[idx2]\n",
    "g = df2.γ_values[idx2]\n",
    "\n",
    "print('RBF SVM - top accuracy across folds: {:.2f} (std:{:.3f}) with C: {} and gamma:{}'.format(top_accuracy2, std_score2, c2, g))\n"
   ]
  },
  {
   "cell_type": "markdown",
   "metadata": {},
   "source": [
    "### Evaluate and report the accuracy of your (tuned) estimators on the 1,000 points from the test set"
   ]
  },
  {
   "cell_type": "code",
   "execution_count": 14,
   "metadata": {},
   "outputs": [
    {
     "name": "stdout",
     "output_type": "stream",
     "text": [
      "Linear SVM accuracy (test set): 0.810\n",
      "SVM accuracy (test set): 0.790\n"
     ]
    }
   ],
   "source": [
    "accuracy = grid_cv.score(X_te, y_te)\n",
    "print('Linear SVM accuracy (test set): {:.3f}'.format(accuracy))\n",
    "\n",
    "accuracy2 = grid_cv2.score(X_te, y_te)\n",
    "print('SVM accuracy (test set): {:.3f}'.format(accuracy2))"
   ]
  },
  {
   "cell_type": "code",
   "execution_count": null,
   "metadata": {},
   "outputs": [],
   "source": []
  }
 ],
 "metadata": {
  "kernelspec": {
   "display_name": "Python 3",
   "language": "python",
   "name": "python3"
  },
  "language_info": {
   "codemirror_mode": {
    "name": "ipython",
    "version": 3
   },
   "file_extension": ".py",
   "mimetype": "text/x-python",
   "name": "python",
   "nbconvert_exporter": "python",
   "pygments_lexer": "ipython3",
   "version": "3.6.4"
  }
 },
 "nbformat": 4,
 "nbformat_minor": 2
}
