{
 "cells": [
  {
   "cell_type": "markdown",
   "metadata": {},
   "source": [
    "## Convolutional neural network"
   ]
  },
  {
   "cell_type": "code",
   "execution_count": 19,
   "metadata": {},
   "outputs": [
    {
     "name": "stdout",
     "output_type": "stream",
     "text": [
      "['pixels', 'overfeat', 'labels', 'names', 'allow_pickle']\n",
      "data: (5000, 3072) float32\n"
     ]
    }
   ],
   "source": [
    "import numpy as np\n",
    "\n",
    "with np.load('cifar4-train.npz', allow_pickle = False) as npz_file:\n",
    "    cifar4_data = dict(npz_file.items())\n",
    "    \n",
    "print(list(cifar4_data.keys()))\n",
    "\n",
    "data = cifar4_data['pixels'].astype(np.float32)\n",
    "y = cifar4_data['labels']\n",
    "\n",
    "data = (data-128)/255\n",
    "print('data:', data.shape, data.dtype)"
   ]
  },
  {
   "cell_type": "code",
   "execution_count": 6,
   "metadata": {},
   "outputs": [
    {
     "name": "stdout",
     "output_type": "stream",
     "text": [
      "Train set: (3200, 32, 32, 3) (3200,)\n",
      "Validation set: (800, 32, 32, 3) (800,)\n",
      "Test set: (1000, 32, 32, 3) (1000,)\n"
     ]
    }
   ],
   "source": [
    "from sklearn.model_selection import train_test_split\n",
    "from sklearn.preprocessing import StandardScaler\n",
    "\n",
    "# Split data into train/test/ validation sets keeping same proportion of classes\n",
    "X_tr, X_te, y_tr, y_te = train_test_split(data.reshape(-1, 32,32,3), cifar4_data['labels'], train_size=4000, test_size=1000, random_state=0, stratify=y)\n",
    "\n",
    "X_tr, X_val, y_tr, y_val = train_test_split(X_tr, y_tr, train_size=3200, test_size=800, random_state=0, stratify=y_tr)\n",
    "\n",
    "print('Train set:', X_tr.shape, y_tr.shape)\n",
    "print('Validation set:', X_val.shape, y_val.shape)\n",
    "print('Test set:', X_te.shape, y_te.shape)\n"
   ]
  },
  {
   "cell_type": "code",
   "execution_count": 7,
   "metadata": {},
   "outputs": [],
   "source": [
    "#Batch generator\n",
    "def get_batches(X, y, batch_size):\n",
    "    shuffled_idx = np.arange(len(y))\n",
    "    np.random.shuffle(shuffled_idx)\n",
    "    \n",
    "    for i in range(0, len(y), batch_size):\n",
    "        batch_idx = shuffled_idx[i:i+batch_size]\n",
    "        yield X[batch_idx], y[batch_idx]"
   ]
  },
  {
   "cell_type": "code",
   "execution_count": 8,
   "metadata": {},
   "outputs": [
    {
     "name": "stdout",
     "output_type": "stream",
     "text": [
      "Input: (?, 32, 32, 3)\n",
      "Convolutional layer: (?, 16, 16, 64)\n",
      "Maxpool: (?, 8, 8, 64)\n",
      "Convolutional layer: (?, 8, 8, 64)\n",
      "Maxpool: (?, 4, 4, 64)\n",
      "Flatten: (?, 1024)\n",
      "Dropout: (?, 1024)\n",
      "Fully-connected layer: (?, 256)\n",
      "Output layer: (?, 10)\n"
     ]
    }
   ],
   "source": [
    "import tensorflow as tf\n",
    "graph = tf.Graph()\n",
    "\n",
    "with graph.as_default():\n",
    "    X = tf.placeholder(dtype=tf.float32, shape=[None, 32,32,3])\n",
    "    y = tf.placeholder(dtype=tf.int32, shape=[None])\n",
    "    \n",
    "    print('Input:', X.shape)\n",
    "    \n",
    "    #convolutional layer\n",
    "    conv1 = tf.layers.conv2d(\n",
    "        X, 64, (5,5), (2,2), 'SAME',\n",
    "        activation = tf.nn.relu,\n",
    "        kernel_initializer = tf.truncated_normal_initializer(stddev=0.01, seed=0),\n",
    "        name = 'conv1')\n",
    "    \n",
    "    print('Convolutional layer:', conv1.shape)\n",
    "    \n",
    "    #maxpool layer\n",
    "    pool1 = tf.layers.max_pooling2d(conv1, (2,2), (2,2), 'SAME')\n",
    "    print('Maxpool:', pool1.shape)\n",
    "    \n",
    "    \n",
    "    # 2nd convolutional layer\n",
    "    conv2 = tf.layers.conv2d(\n",
    "        pool1, 64, (3,3), (1,1), 'SAME',\n",
    "        activation = tf.nn.relu,\n",
    "        kernel_initializer = tf.truncated_normal_initializer(stddev=0.01, seed=0),\n",
    "        name = 'conv2')\n",
    "    \n",
    "    print('Convolutional layer:', conv2.shape)\n",
    "    \n",
    "    # 2nd maxpool layer\n",
    "    pool2 = tf.layers.max_pooling2d(conv2, (2,2), (2,2), 'SAME')\n",
    "    print('Maxpool:', pool2.shape)\n",
    "    \n",
    "    flat_output = tf.contrib.layers.flatten(pool2)\n",
    "    print('Flatten:', flat_output.shape)\n",
    "        \n",
    "    training = tf.placeholder(dtype=tf.bool)\n",
    "    flat_output = tf.layers.dropout(flat_output, rate=0.5, seed=0, training=training)\n",
    "    print('Dropout:', flat_output.shape)\n",
    "    \n",
    "    #fully connected layer\n",
    "    fc1 = tf.layers.dense(\n",
    "        flat_output, 256,\n",
    "        activation = tf.nn.relu,\n",
    "        kernel_initializer = tf.variance_scaling_initializer(scale=2, seed=0),\n",
    "        bias_initializer = tf.zeros_initializer())\n",
    "    print('Fully-connected layer:', fc1.shape)\n",
    "        \n",
    "    logits = tf.layers.dense(\n",
    "        fc1, 10,\n",
    "        activation = None,\n",
    "        kernel_initializer = tf.variance_scaling_initializer(scale=1, seed=0),\n",
    "        bias_initializer = tf.zeros_initializer())\n",
    "    print('Output layer:', logits.shape)\n",
    "             \n",
    "    with tf.variable_scope('conv1', reuse=True):\n",
    "        conv_kernels = tf.get_variable('kernel')\n",
    "        \n",
    "    mean_ce = tf.reduce_mean(\n",
    "        tf.nn.sparse_softmax_cross_entropy_with_logits(\n",
    "            labels=y, logits=logits))\n",
    "      \n",
    "    lr = tf.placeholder(dtype=tf.float32)\n",
    "    gd = tf.train.AdamOptimizer(learning_rate=lr)\n",
    "    \n",
    "    train_op = gd.minimize(mean_ce)\n",
    "        \n",
    "    predictions = tf.argmax(logits, axis=1, output_type=tf.int32)\n",
    "    is_correct = tf.equal(y, predictions)\n",
    "    accuracy = tf.reduce_mean(tf.cast(is_correct, dtype=tf.float32))\n",
    "    "
   ]
  },
  {
   "cell_type": "code",
   "execution_count": 15,
   "metadata": {},
   "outputs": [
    {
     "name": "stdout",
     "output_type": "stream",
     "text": [
      "Epoch 1 - valid: 0.468 train: 0.385 (mean)\n",
      "Epoch 2 - valid: 0.545 train: 0.511 (mean)\n",
      "Epoch 3 - valid: 0.571 train: 0.540 (mean)\n",
      "Epoch 4 - valid: 0.587 train: 0.572 (mean)\n",
      "Epoch 5 - valid: 0.629 train: 0.598 (mean)\n",
      "Epoch 6 - valid: 0.635 train: 0.627 (mean)\n",
      "Epoch 7 - valid: 0.666 train: 0.654 (mean)\n",
      "Epoch 8 - valid: 0.690 train: 0.668 (mean)\n",
      "Epoch 9 - valid: 0.700 train: 0.701 (mean)\n",
      "Epoch 10 - valid: 0.717 train: 0.707 (mean)\n",
      "Epoch 11 - valid: 0.723 train: 0.714 (mean)\n",
      "Epoch 12 - valid: 0.711 train: 0.745 (mean)\n",
      "Epoch 13 - valid: 0.739 train: 0.746 (mean)\n",
      "Epoch 14 - valid: 0.714 train: 0.766 (mean)\n",
      "Epoch 15 - valid: 0.731 train: 0.770 (mean)\n",
      "Epoch 16 - valid: 0.749 train: 0.786 (mean)\n",
      "Epoch 17 - valid: 0.745 train: 0.795 (mean)\n",
      "Epoch 18 - valid: 0.757 train: 0.809 (mean)\n",
      "Epoch 19 - valid: 0.756 train: 0.814 (mean)\n",
      "Epoch 20 - valid: 0.765 train: 0.830 (mean)\n",
      "Epoch 21 - valid: 0.757 train: 0.831 (mean)\n",
      "Epoch 22 - valid: 0.754 train: 0.834 (mean)\n",
      "Epoch 23 - valid: 0.764 train: 0.845 (mean)\n",
      "Epoch 24 - valid: 0.777 train: 0.853 (mean)\n",
      "Epoch 25 - valid: 0.764 train: 0.853 (mean)\n",
      "Epoch 26 - valid: 0.777 train: 0.866 (mean)\n",
      "Epoch 27 - valid: 0.764 train: 0.866 (mean)\n",
      "Epoch 28 - valid: 0.770 train: 0.867 (mean)\n",
      "Epoch 29 - valid: 0.779 train: 0.874 (mean)\n",
      "Epoch 30 - valid: 0.788 train: 0.888 (mean)\n"
     ]
    }
   ],
   "source": [
    "# Validation accuracy\n",
    "valid_acc_values = []\n",
    "\n",
    "with tf.Session(graph=graph) as sess:\n",
    "    sess.run(tf.global_variables_initializer())\n",
    "   \n",
    "    np.random.seed(0)\n",
    "     \n",
    "    for epoch in range(30):\n",
    "        batch_acc = []\n",
    "        \n",
    "        for X_batch, y_batch in get_batches(X_tr, y_tr, 64):\n",
    "            _, acc_value = sess.run([train_op, accuracy], feed_dict={\n",
    "                X: X_batch,\n",
    "                y: y_batch,\n",
    "                lr: 0.001, # Learning rate\n",
    "                training: True\n",
    "            })\n",
    "            \n",
    "            batch_acc.append(acc_value)\n",
    "\n",
    "        # Evaluate validation accuracy\n",
    "        valid_acc = sess.run(accuracy, feed_dict={\n",
    "            X: X_val,\n",
    "            y: y_val,\n",
    "            training: False\n",
    "        })\n",
    "        valid_acc_values.append(valid_acc)\n",
    "        \n",
    "        print('Epoch {} - valid: {:.3f} train: {:.3f} (mean)'.format(\n",
    "            epoch+1, valid_acc, np.mean(batch_acc)\n",
    "        ))\n",
    "        \n",
    "    kernels = conv_kernels.eval()\n",
    "    \n",
    "    # evaluate test accuracy\n",
    "    test_acc = sess.run(accuracy, feed_dict={\n",
    "        X: X_te,\n",
    "        y: y_te,\n",
    "        training: False\n",
    "    })\n",
    "    "
   ]
  },
  {
   "cell_type": "code",
   "execution_count": 16,
   "metadata": {},
   "outputs": [
    {
     "name": "stdout",
     "output_type": "stream",
     "text": [
      "Convolutional network accuracy (test set): 0.785\n"
     ]
    }
   ],
   "source": [
    "print('Convolutional network accuracy (test set): {:.3f}'.format(test_acc))"
   ]
  },
  {
   "cell_type": "code",
   "execution_count": 17,
   "metadata": {},
   "outputs": [
    {
     "data": {
      "image/png": "[encoded data removed]",
      "text/plain": [
       "<matplotlib.figure.Figure at 0x1c0cc898>"
      ]
     },
     "metadata": {
      "needs_background": "light"
     },
     "output_type": "display_data"
    }
   ],
   "source": [
    "#plot accuracy on validation set\n",
    "\n",
    "%matplotlib inline\n",
    "import matplotlib.pyplot as plt\n",
    "\n",
    "plt.plot(valid_acc_values)\n",
    "plt.title('Validation accuracy: {:.3f} (mean last 3)'.format(\n",
    "    np.mean(valid_acc_values[-3:]) \n",
    "))\n",
    "plt.xlabel('epoch')\n",
    "plt.ylabel('accuracy')\n",
    "plt.show()"
   ]
  },
  {
   "cell_type": "code",
   "execution_count": 18,
   "metadata": {},
   "outputs": [
    {
     "data": {
      "image/png": "[encoded data removed]",
      "text/plain": [
       "<matplotlib.figure.Figure at 0x1c178470>"
      ]
     },
     "metadata": {
      "needs_background": "light"
     },
     "output_type": "display_data"
    }
   ],
   "source": [
    "# plot the trained weights of the kernels from the first convolutional layer \n",
    "\n",
    "fig, axes = plt.subplots(nrows=8, ncols=8, figsize=(8, 8))\n",
    "\n",
    "plt.subplots_adjust(wspace=0, hspace=0)\n",
    "\n",
    "for i, axis in enumerate(axes.flatten()):\n",
    "    kernel = kernels[:, :, :, i].copy()\n",
    "    \n",
    "    kernel -= kernel.min() \n",
    "    kernel /= kernel.max() \n",
    "    \n",
    "    axis.imshow(kernel)\n",
    "    axis.get_xaxis().set_visible(False) \n",
    "    axis.get_yaxis().set_visible(False) \n",
    "    \n",
    "plt.show()"
   ]
  },
  {
   "cell_type": "code",
   "execution_count": null,
   "metadata": {},
   "outputs": [],
   "source": []
  }
 ],
 "metadata": {
  "kernelspec": {
   "display_name": "Python 3",
   "language": "python",
   "name": "python3"
  },
  "language_info": {
   "codemirror_mode": {
    "name": "ipython",
    "version": 3
   },
   "file_extension": ".py",
   "mimetype": "text/x-python",
   "name": "python",
   "nbconvert_exporter": "python",
   "pygments_lexer": "ipython3",
   "version": "3.6.4"
  }
 },
 "nbformat": 4,
 "nbformat_minor": 2
}
