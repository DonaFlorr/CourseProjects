{
 "cells": [
  {
   "cell_type": "code",
   "execution_count": 1,
   "metadata": {},
   "outputs": [],
   "source": [
    "import pandas as pd\n",
    "import numpy as np\n",
    "%matplotlib inline\n",
    "import matplotlib.pyplot as plt\n",
    "import seaborn as sns\n",
    "sns.set()"
   ]
  },
  {
   "cell_type": "markdown",
   "metadata": {},
   "source": [
    "# Task 1 "
   ]
  },
  {
   "cell_type": "code",
   "execution_count": 2,
   "metadata": {},
   "outputs": [
    {
     "name": "stdout",
     "output_type": "stream",
     "text": [
      "Data shape: (50, 2)\n"
     ]
    },
    {
     "data": {
      "text/html": [
       "<div>\n",
       "<style scoped>\n",
       "    .dataframe tbody tr th:only-of-type {\n",
       "        vertical-align: middle;\n",
       "    }\n",
       "\n",
       "    .dataframe tbody tr th {\n",
       "        vertical-align: top;\n",
       "    }\n",
       "\n",
       "    .dataframe thead th {\n",
       "        text-align: right;\n",
       "    }\n",
       "</style>\n",
       "<table border=\"1\" class=\"dataframe\">\n",
       "  <thead>\n",
       "    <tr style=\"text-align: right;\">\n",
       "      <th></th>\n",
       "      <th>x</th>\n",
       "      <th>y</th>\n",
       "    </tr>\n",
       "  </thead>\n",
       "  <tbody>\n",
       "    <tr>\n",
       "      <th>0</th>\n",
       "      <td>10.529</td>\n",
       "      <td>39.105</td>\n",
       "    </tr>\n",
       "    <tr>\n",
       "      <th>1</th>\n",
       "      <td>10.799</td>\n",
       "      <td>40.584</td>\n",
       "    </tr>\n",
       "    <tr>\n",
       "      <th>2</th>\n",
       "      <td>11.698</td>\n",
       "      <td>39.883</td>\n",
       "    </tr>\n",
       "    <tr>\n",
       "      <th>3</th>\n",
       "      <td>12.851</td>\n",
       "      <td>39.411</td>\n",
       "    </tr>\n",
       "    <tr>\n",
       "      <th>4</th>\n",
       "      <td>13.565</td>\n",
       "      <td>40.760</td>\n",
       "    </tr>\n",
       "  </tbody>\n",
       "</table>\n",
       "</div>"
      ],
      "text/plain": [
       "        x       y\n",
       "0  10.529  39.105\n",
       "1  10.799  40.584\n",
       "2  11.698  39.883\n",
       "3  12.851  39.411\n",
       "4  13.565  40.760"
      ]
     },
     "execution_count": 2,
     "metadata": {},
     "output_type": "execute_result"
    }
   ],
   "source": [
    "data_df = pd.read_csv('task-1.csv')\n",
    "print('Data shape:', data_df.shape)\n",
    "data_df.head()"
   ]
  },
  {
   "cell_type": "code",
   "execution_count": 3,
   "metadata": {},
   "outputs": [
    {
     "name": "stdout",
     "output_type": "stream",
     "text": [
      "x,y: (50,) (50,)\n"
     ]
    }
   ],
   "source": [
    "x=data_df.x.values\n",
    "y=data_df.y.values\n",
    "print('x,y:', x.shape, y.shape)"
   ]
  },
  {
   "cell_type": "code",
   "execution_count": 4,
   "metadata": {},
   "outputs": [
    {
     "data": {
      "image/png": "[encoded data removed]",
      "text/plain": [
       "<Figure size 432x288 with 1 Axes>"
      ]
     },
     "metadata": {},
     "output_type": "display_data"
    }
   ],
   "source": [
    "plt.scatter(x,y)\n",
    "plt.show()"
   ]
  },
  {
   "cell_type": "markdown",
   "metadata": {},
   "source": [
    "#### Fit the equation using polyfit() and print the a, b parameters"
   ]
  },
  {
   "cell_type": "code",
   "execution_count": 5,
   "metadata": {},
   "outputs": [
    {
     "name": "stdout",
     "output_type": "stream",
     "text": [
      "a, b parameters: [ 3.390241   31.52920122]\n"
     ]
    }
   ],
   "source": [
    "coefs = np.polyfit(np.log(x), y, deg=1)\n",
    "print('a, b parameters:', coefs)"
   ]
  },
  {
   "cell_type": "markdown",
   "metadata": {},
   "source": [
    "#### Plot your model with the 50 data points, i.e., the curve that corresponds to the equation from above"
   ]
  },
  {
   "cell_type": "code",
   "execution_count": 6,
   "metadata": {},
   "outputs": [
    {
     "data": {
      "image/png": "[encoded data removed]",
      "text/plain": [
       "<Figure size 432x288 with 1 Axes>"
      ]
     },
     "metadata": {},
     "output_type": "display_data"
    }
   ],
   "source": [
    "x_values = np.linspace(x.min(), x.max(), num=100)\n",
    "y_values = np.polyval(coefs, np.log(x_values))\n",
    "\n",
    "plt.scatter(x,y)\n",
    "plt.plot(x_values, y_values, color='red', label='polyfit(log(x), y, deg=1)')\n",
    "plt.legend()\n",
    "plt.show()"
   ]
  },
  {
   "cell_type": "markdown",
   "metadata": {},
   "source": [
    "#### Compute and print the R2 coefficient using Numpy"
   ]
  },
  {
   "cell_type": "code",
   "execution_count": 7,
   "metadata": {},
   "outputs": [
    {
     "name": "stdout",
     "output_type": "stream",
     "text": [
      "rss_model, rss_baseline: 31.842651752756687 541.1432872199999\n",
      "R2: 0.9411567093138288\n"
     ]
    }
   ],
   "source": [
    "\n",
    "def RSS(y, y_pred):\n",
    "    return np.sum(np.square(y - y_pred))\n",
    "\n",
    "y_pred = np.polyval(coefs, np.log(x))\n",
    "rss_model = RSS (y, y_pred)\n",
    "rss_baseline = RSS(y, y.mean())\n",
    "print('rss_model, rss_baseline:', rss_model, rss_baseline)\n",
    "\n",
    "R2 = 1 - (rss_model/rss_baseline)\n",
    "print('R2:', R2)"
   ]
  },
  {
   "cell_type": "markdown",
   "metadata": {},
   "source": [
    "#### Explain how the polyfit() function finds the optimal parameters (1-2 sentences)\n",
    "\n",
    "Polyfit function fits the function which minimizes squared error and returns coefficients of this function"
   ]
  },
  {
   "cell_type": "markdown",
   "metadata": {},
   "source": [
    "#### Give two differences between this method and the gradient descent one. Write a short sentence for each one.\n",
    "1.Gradient descend uses gradient to minimize cost function. Polyfit function minimizes squared error.\n",
    "<br>\n",
    "2.Gradient descent is iterative algorithm. It takes small steps in the opposite direction of the gradient. At each iteration it computes parameters (a,b) and updates them with a learning rate. "
   ]
  },
  {
   "cell_type": "markdown",
   "metadata": {},
   "source": [
    "# Task 2"
   ]
  },
  {
   "cell_type": "markdown",
   "metadata": {},
   "source": [
    "#### Load and split  the data into 80-20 train/test using train_test_split(random_state=0)"
   ]
  },
  {
   "cell_type": "code",
   "execution_count": 8,
   "metadata": {},
   "outputs": [
    {
     "name": "stdout",
     "output_type": "stream",
     "text": [
      "Data shape: (1000, 4)\n"
     ]
    },
    {
     "data": {
      "text/html": [
       "<div>\n",
       "<style scoped>\n",
       "    .dataframe tbody tr th:only-of-type {\n",
       "        vertical-align: middle;\n",
       "    }\n",
       "\n",
       "    .dataframe tbody tr th {\n",
       "        vertical-align: top;\n",
       "    }\n",
       "\n",
       "    .dataframe thead th {\n",
       "        text-align: right;\n",
       "    }\n",
       "</style>\n",
       "<table border=\"1\" class=\"dataframe\">\n",
       "  <thead>\n",
       "    <tr style=\"text-align: right;\">\n",
       "      <th></th>\n",
       "      <th>x1</th>\n",
       "      <th>x2</th>\n",
       "      <th>x3</th>\n",
       "      <th>y</th>\n",
       "    </tr>\n",
       "  </thead>\n",
       "  <tbody>\n",
       "    <tr>\n",
       "      <th>0</th>\n",
       "      <td>7.892</td>\n",
       "      <td>318.818</td>\n",
       "      <td>162.970</td>\n",
       "      <td>2112.420</td>\n",
       "    </tr>\n",
       "    <tr>\n",
       "      <th>1</th>\n",
       "      <td>8.830</td>\n",
       "      <td>303.180</td>\n",
       "      <td>181.399</td>\n",
       "      <td>2096.231</td>\n",
       "    </tr>\n",
       "    <tr>\n",
       "      <th>2</th>\n",
       "      <td>13.811</td>\n",
       "      <td>296.231</td>\n",
       "      <td>145.849</td>\n",
       "      <td>2067.045</td>\n",
       "    </tr>\n",
       "    <tr>\n",
       "      <th>3</th>\n",
       "      <td>12.863</td>\n",
       "      <td>325.830</td>\n",
       "      <td>167.996</td>\n",
       "      <td>2269.262</td>\n",
       "    </tr>\n",
       "    <tr>\n",
       "      <th>4</th>\n",
       "      <td>13.698</td>\n",
       "      <td>254.035</td>\n",
       "      <td>171.892</td>\n",
       "      <td>1966.604</td>\n",
       "    </tr>\n",
       "  </tbody>\n",
       "</table>\n",
       "</div>"
      ],
      "text/plain": [
       "       x1       x2       x3         y\n",
       "0   7.892  318.818  162.970  2112.420\n",
       "1   8.830  303.180  181.399  2096.231\n",
       "2  13.811  296.231  145.849  2067.045\n",
       "3  12.863  325.830  167.996  2269.262\n",
       "4  13.698  254.035  171.892  1966.604"
      ]
     },
     "execution_count": 8,
     "metadata": {},
     "output_type": "execute_result"
    }
   ],
   "source": [
    "data_df2 = pd.read_csv('task-2.csv')\n",
    "print('Data shape:', data_df2.shape)\n",
    "data_df2.head()"
   ]
  },
  {
   "cell_type": "code",
   "execution_count": 9,
   "metadata": {},
   "outputs": [],
   "source": [
    "X = data_df2.drop(['y'], axis=1).values\n",
    "y = data_df2.y.values"
   ]
  },
  {
   "cell_type": "code",
   "execution_count": 10,
   "metadata": {},
   "outputs": [
    {
     "name": "stdout",
     "output_type": "stream",
     "text": [
      "Train set shape: (800, 3) (800,)\n",
      "Test set shape: (200, 3) (200,)\n"
     ]
    }
   ],
   "source": [
    "from sklearn.model_selection import train_test_split\n",
    "X_tr, X_te, y_tr, y_te = train_test_split(X, y, train_size = 0.8, test_size = 0.2, random_state=0)\n",
    "print('Train set shape:', X_tr.shape, y_tr.shape)\n",
    "print('Test set shape:', X_te.shape, y_te.shape)"
   ]
  },
  {
   "cell_type": "markdown",
   "metadata": {},
   "source": [
    "#### Fit linear regression without removing outliers. Print the mean absolute error (MAE) on the test set."
   ]
  },
  {
   "cell_type": "code",
   "execution_count": 11,
   "metadata": {},
   "outputs": [
    {
     "name": "stdout",
     "output_type": "stream",
     "text": [
      "MAE:104.79\n"
     ]
    }
   ],
   "source": [
    "\n",
    "from sklearn.linear_model import LinearRegression\n",
    "lr = LinearRegression()\n",
    "lr.fit(X_tr, y_tr)\n",
    "\n",
    "y_pred = lr.predict(X_te)\n",
    "\n",
    "def MAE(y, y_pred):\n",
    "    return np.mean(np.abs(y - y_pred))\n",
    "\n",
    "mae = MAE(y_te, y_pred)\n",
    "print ('MAE:{:.2f}'.format(mae))"
   ]
  },
  {
   "cell_type": "markdown",
   "metadata": {},
   "source": [
    "#### Remove outliers and compare the results. What is the new test MAE?"
   ]
  },
  {
   "cell_type": "code",
   "execution_count": 12,
   "metadata": {},
   "outputs": [
    {
     "data": {
      "image/png": "[encoded data removed]",
      "text/plain": [
       "<Figure size 432x288 with 4 Axes>"
      ]
     },
     "metadata": {},
     "output_type": "display_data"
    }
   ],
   "source": [
    "data_df2.hist()\n",
    "plt.show()"
   ]
  },
  {
   "cell_type": "code",
   "execution_count": 13,
   "metadata": {},
   "outputs": [
    {
     "data": {
      "text/plain": [
       "(953, 4)"
      ]
     },
     "execution_count": 13,
     "metadata": {},
     "output_type": "execute_result"
    }
   ],
   "source": [
    "from scipy import stats\n",
    "df = data_df2[(np.abs(stats.zscore(data_df2)) < 3).all(axis=1)]\n",
    "df.shape\n",
    "\n",
    "#with z-score <3 there are 46 outliers in data set"
   ]
  },
  {
   "cell_type": "code",
   "execution_count": 14,
   "metadata": {},
   "outputs": [
    {
     "data": {
      "image/png": "[encoded data removed]",
      "text/plain": [
       "<Figure size 432x288 with 4 Axes>"
      ]
     },
     "metadata": {},
     "output_type": "display_data"
    }
   ],
   "source": [
    "df.hist()\n",
    "plt.show()\n",
    "# data are now close to normal distribution"
   ]
  },
  {
   "cell_type": "code",
   "execution_count": 15,
   "metadata": {},
   "outputs": [
    {
     "name": "stdout",
     "output_type": "stream",
     "text": [
      "Train set shape: (762, 3) (762,)\n",
      "Test set shape: (191, 3) (191,)\n",
      "New test MAE without outliers: 58.63281457322418\n"
     ]
    }
   ],
   "source": [
    "#new data set wihout outliers\n",
    "X_o = df.drop(['y'], axis=1).values\n",
    "y_o = df.y.values\n",
    "\n",
    "X_tr_o, X_te_o, y_tr_o, y_te_o = train_test_split(X_o, y_o, train_size = 0.8, test_size = 0.2, random_state=0)\n",
    "print('Train set shape:', X_tr_o.shape, y_tr_o.shape)\n",
    "print('Test set shape:', X_te_o.shape, y_te_o.shape)\n",
    "\n",
    "lr.fit(X_tr_o, y_tr_o)\n",
    "y_pred_o = lr.predict(X_te_o)\n",
    "\n",
    "mae_o = MAE(y_te_o, y_pred_o)\n",
    "print('New test MAE without outliers:', mae_o)"
   ]
  },
  {
   "cell_type": "markdown",
   "metadata": {},
   "source": [
    "#### Fit linear regression with Huber loss. Print MAE on the test set."
   ]
  },
  {
   "cell_type": "code",
   "execution_count": 16,
   "metadata": {},
   "outputs": [
    {
     "name": "stdout",
     "output_type": "stream",
     "text": [
      "MAE huber loss: 83.90812396864598\n"
     ]
    }
   ],
   "source": [
    "from sklearn.linear_model import HuberRegressor\n",
    "\n",
    "lr_huber = HuberRegressor()\n",
    "lr_huber.fit(X_tr, y_tr)\n",
    "\n",
    "y_pred_huber = lr_huber.predict(X_te)\n",
    "mae_hub = MAE(y_te, y_pred_huber)\n",
    "print('MAE huber loss:', mae_hub)"
   ]
  },
  {
   "cell_type": "markdown",
   "metadata": {},
   "source": [
    "# Task 3"
   ]
  },
  {
   "cell_type": "code",
   "execution_count": 17,
   "metadata": {},
   "outputs": [
    {
     "name": "stdout",
     "output_type": "stream",
     "text": [
      "data shape (50, 2)\n"
     ]
    },
    {
     "data": {
      "text/html": [
       "<div>\n",
       "<style scoped>\n",
       "    .dataframe tbody tr th:only-of-type {\n",
       "        vertical-align: middle;\n",
       "    }\n",
       "\n",
       "    .dataframe tbody tr th {\n",
       "        vertical-align: top;\n",
       "    }\n",
       "\n",
       "    .dataframe thead th {\n",
       "        text-align: right;\n",
       "    }\n",
       "</style>\n",
       "<table border=\"1\" class=\"dataframe\">\n",
       "  <thead>\n",
       "    <tr style=\"text-align: right;\">\n",
       "      <th></th>\n",
       "      <th>x</th>\n",
       "      <th>y</th>\n",
       "    </tr>\n",
       "  </thead>\n",
       "  <tbody>\n",
       "    <tr>\n",
       "      <th>0</th>\n",
       "      <td>3.588</td>\n",
       "      <td>0.473</td>\n",
       "    </tr>\n",
       "    <tr>\n",
       "      <th>1</th>\n",
       "      <td>3.551</td>\n",
       "      <td>0.784</td>\n",
       "    </tr>\n",
       "    <tr>\n",
       "      <th>2</th>\n",
       "      <td>3.610</td>\n",
       "      <td>0.847</td>\n",
       "    </tr>\n",
       "    <tr>\n",
       "      <th>3</th>\n",
       "      <td>3.704</td>\n",
       "      <td>0.904</td>\n",
       "    </tr>\n",
       "    <tr>\n",
       "      <th>4</th>\n",
       "      <td>3.716</td>\n",
       "      <td>1.118</td>\n",
       "    </tr>\n",
       "  </tbody>\n",
       "</table>\n",
       "</div>"
      ],
      "text/plain": [
       "       x      y\n",
       "0  3.588  0.473\n",
       "1  3.551  0.784\n",
       "2  3.610  0.847\n",
       "3  3.704  0.904\n",
       "4  3.716  1.118"
      ]
     },
     "execution_count": 17,
     "metadata": {},
     "output_type": "execute_result"
    }
   ],
   "source": [
    "data_df3 = pd.read_csv('task-3.csv')\n",
    "print('data shape', data_df3.shape)\n",
    "data_df3.head()"
   ]
  },
  {
   "cell_type": "code",
   "execution_count": 18,
   "metadata": {},
   "outputs": [
    {
     "data": {
      "image/png": "[encoded data removed]",
      "text/plain": [
       "<Figure size 432x288 with 1 Axes>"
      ]
     },
     "metadata": {},
     "output_type": "display_data"
    }
   ],
   "source": [
    "plt.scatter(data_df3.x, data_df3.y)\n",
    "plt.show()"
   ]
  },
  {
   "cell_type": "markdown",
   "metadata": {},
   "source": [
    "### Split data into 50-50 train/test set"
   ]
  },
  {
   "cell_type": "code",
   "execution_count": 19,
   "metadata": {},
   "outputs": [
    {
     "name": "stdout",
     "output_type": "stream",
     "text": [
      "Train set: (25,) (25,)\n",
      "Test set: (25,) (25,)\n"
     ]
    }
   ],
   "source": [
    "#Extract x/y data\n",
    "x = data_df3.x.values\n",
    "y = data_df3.y.values\n",
    "\n",
    "#Split into train/test set\n",
    "x_tr, x_te, y_tr, y_te = train_test_split(x, y, train_size = 0.5, test_size = 0.5, random_state=0)\n",
    "\n",
    "print('Train set:', x_tr.shape, y_tr.shape)\n",
    "print('Test set:', x_te.shape, y_te.shape)"
   ]
  },
  {
   "cell_type": "markdown",
   "metadata": {},
   "source": [
    "### Fit a polynomial of degree 10 to the train set. Print its residual sum of squares (RSS) on the train/test sets. Does your model overfit?"
   ]
  },
  {
   "cell_type": "code",
   "execution_count": 20,
   "metadata": {},
   "outputs": [
    {
     "name": "stdout",
     "output_type": "stream",
     "text": [
      "Shape: (25, 10)\n",
      "Features: ['x0', 'x0^2', 'x0^3', 'x0^4', 'x0^5', 'x0^6', 'x0^7', 'x0^8', 'x0^9', 'x0^10']\n"
     ]
    }
   ],
   "source": [
    "from sklearn.preprocessing import PolynomialFeatures\n",
    "\n",
    "#Create the polynomial features\n",
    "pf_obj = PolynomialFeatures(degree = 10, include_bias=False)\n",
    "X_poly_tr = pf_obj.fit_transform(x_tr[:, np.newaxis])\n",
    "\n",
    "print ('Shape:', X_poly_tr.shape)\n",
    "print ('Features:', pf_obj.get_feature_names())"
   ]
  },
  {
   "cell_type": "code",
   "execution_count": 21,
   "metadata": {},
   "outputs": [
    {
     "name": "stdout",
     "output_type": "stream",
     "text": [
      "RSS, train set:0.68\n",
      "RSS, test set:1.51\n"
     ]
    }
   ],
   "source": [
    "#Linear regression\n",
    "lr = LinearRegression()\n",
    "lr.fit(X_poly_tr, y_tr)\n",
    "\n",
    "y_pred_tr = lr.predict(X_poly_tr)\n",
    "\n",
    "def RSS(y, y_pred):\n",
    "    return np.sum(np.square(y - y_pred))\n",
    "                  \n",
    "rss_tr = RSS(y_tr, y_pred_tr)\n",
    "print ('RSS, train set:{:.2f}'.format(rss_tr))\n",
    "\n",
    "X_poly_te = pf_obj.fit_transform(x_te[:, np.newaxis])\n",
    "y_pred_te = lr.predict(X_poly_te)\n",
    "\n",
    "rss_te = RSS(y_te, y_pred_te)\n",
    "print ('RSS, test set:{:.2f}'.format(rss_te))\n",
    "\n",
    "#there is a big difference between RSS of train set and test set, it means that model overfits\n"
   ]
  },
  {
   "cell_type": "markdown",
   "metadata": {},
   "source": [
    "### Plot model with data points"
   ]
  },
  {
   "cell_type": "code",
   "execution_count": 22,
   "metadata": {},
   "outputs": [
    {
     "data": {
      "image/png": "[encoded data removed]",
      "text/plain": [
       "<Figure size 432x288 with 1 Axes>"
      ]
     },
     "metadata": {},
     "output_type": "display_data"
    }
   ],
   "source": [
    "x_values = np.linspace(min(x), max(x), num=100)\n",
    "x_values2 = pf_obj.transform(x_values[:, np.newaxis])\n",
    "y_values = lr.predict(x_values2)\n",
    "\n",
    "plt.scatter(x_tr,y_tr, s=16, label = 'train set')\n",
    "plt.scatter(x_te, y_te, color='green', s=16, label = 'test set')\n",
    "plt.plot(x_values, y_values, color='red')\n",
    "plt.show()"
   ]
  },
  {
   "cell_type": "markdown",
   "metadata": {},
   "source": [
    "### Apply regularization using ridge regression. Tune the regularization strength using grid search"
   ]
  },
  {
   "cell_type": "code",
   "execution_count": 23,
   "metadata": {},
   "outputs": [
    {
     "name": "stderr",
     "output_type": "stream",
     "text": [
      "C:\\Users\\User1\\Anaconda3\\lib\\site-packages\\sklearn\\linear_model\\ridge.py:112: LinAlgWarning: scipy.linalg.solve\n",
      "Ill-conditioned matrix detected. Result is not guaranteed to be accurate.\n",
      "Reciprocal condition number2.243783e-18\n",
      "  overwrite_a=True).T\n",
      "C:\\Users\\User1\\Anaconda3\\lib\\site-packages\\sklearn\\linear_model\\ridge.py:112: LinAlgWarning: scipy.linalg.solve\n",
      "Ill-conditioned matrix detected. Result is not guaranteed to be accurate.\n",
      "Reciprocal condition number4.669758e-18\n",
      "  overwrite_a=True).T\n",
      "C:\\Users\\User1\\Anaconda3\\lib\\site-packages\\sklearn\\linear_model\\ridge.py:112: LinAlgWarning: scipy.linalg.solve\n",
      "Ill-conditioned matrix detected. Result is not guaranteed to be accurate.\n",
      "Reciprocal condition number9.791333e-18\n",
      "  overwrite_a=True).T\n",
      "C:\\Users\\User1\\Anaconda3\\lib\\site-packages\\sklearn\\linear_model\\ridge.py:112: LinAlgWarning: scipy.linalg.solve\n",
      "Ill-conditioned matrix detected. Result is not guaranteed to be accurate.\n",
      "Reciprocal condition number2.079403e-17\n",
      "  overwrite_a=True).T\n",
      "C:\\Users\\User1\\Anaconda3\\lib\\site-packages\\sklearn\\linear_model\\ridge.py:112: LinAlgWarning: scipy.linalg.solve\n",
      "Ill-conditioned matrix detected. Result is not guaranteed to be accurate.\n",
      "Reciprocal condition number4.323207e-17\n",
      "  overwrite_a=True).T\n"
     ]
    }
   ],
   "source": [
    "from sklearn.linear_model import Ridge\n",
    "\n",
    "alphas = np.logspace(-3, 3, num=20)\n",
    "\n",
    "train_scores = []\n",
    "test_scores = []\n",
    "\n",
    "\n",
    "for alpha in alphas:\n",
    "    ridge = Ridge(alpha=alpha)\n",
    "    ridge.fit(X_poly_tr, y_tr)\n",
    "    \n",
    "    y_pred_tr_ridge = ridge.predict(X_poly_tr)\n",
    "    train_rss = RSS(y_tr, y_pred_tr_ridge)\n",
    "    train_scores.append(train_rss)\n",
    "    \n",
    "    y_pred_te_ridge = ridge.predict(X_poly_te)\n",
    "    test_rss = RSS (y_te, y_pred_te_ridge)\n",
    "    test_scores.append(test_rss)"
   ]
  },
  {
   "cell_type": "code",
   "execution_count": 24,
   "metadata": {},
   "outputs": [
    {
     "data": {
      "image/png": "[encoded data removed]",
      "text/plain": [
       "<Figure size 432x288 with 1 Axes>"
      ]
     },
     "metadata": {},
     "output_type": "display_data"
    }
   ],
   "source": [
    "plt.semilogx(alphas, train_scores, label='train curve')\n",
    "plt.semilogx(alphas, test_scores, label='test curve')\n",
    "plt.legend()\n",
    "plt.show()"
   ]
  },
  {
   "cell_type": "code",
   "execution_count": 25,
   "metadata": {},
   "outputs": [
    {
     "name": "stdout",
     "output_type": "stream",
     "text": [
      "Best alpha value 7.8e-02 with score 0.90\n"
     ]
    }
   ],
   "source": [
    "idx = np.argmin(test_scores)\n",
    "best_alpha = alphas[idx]\n",
    "best_scores = test_scores[idx]\n",
    "\n",
    "print('Best alpha value {:.1e} with score {:.2f}'.format(best_alpha, best_scores))\n"
   ]
  },
  {
   "cell_type": "markdown",
   "metadata": {},
   "source": [
    "### Compute the train/test RSS of tuned ridge regression model and plot the new curve"
   ]
  },
  {
   "cell_type": "code",
   "execution_count": 26,
   "metadata": {},
   "outputs": [
    {
     "name": "stdout",
     "output_type": "stream",
     "text": [
      "Ridge regression train:1.08\n",
      "Ridge regression test:0.90\n"
     ]
    },
    {
     "data": {
      "image/png": "[encoded data removed]",
      "text/plain": [
       "<Figure size 432x288 with 1 Axes>"
      ]
     },
     "metadata": {},
     "output_type": "display_data"
    }
   ],
   "source": [
    "#tuned ridge regression\n",
    "ridge_reg = Ridge(alpha = best_alpha)\n",
    "ridge_reg.fit(X_poly_tr, y_tr)\n",
    "\n",
    "y_pred_tr_ridge = ridge_reg.predict(X_poly_tr)\n",
    "rss_ridge_tr = RSS (y_tr, y_pred_tr_ridge)\n",
    "print('Ridge regression train:{:.2f}'.format(rss_ridge_tr))\n",
    "\n",
    "y_pred_te_ridge = ridge_reg.predict(X_poly_te)\n",
    "rss_ridge_te = RSS (y_te, y_pred_te_ridge)\n",
    "print('Ridge regression test:{:.2f}'.format(rss_ridge_te))\n",
    "\n",
    "#plot the new curve\n",
    "y_values_ridge = ridge_reg.predict(x_values2)\n",
    "plt.scatter(X_poly_tr[:,0], y_tr, s=16, label = 'train set', color ='blue')\n",
    "plt.scatter(X_poly_te[:,0], y_te, s=16, label = 'test set', color ='green')\n",
    "plt.plot(x_values, y_values_ridge, color = 'red' )\n",
    "plt.legend()\n",
    "plt.show()\n"
   ]
  },
  {
   "cell_type": "code",
   "execution_count": null,
   "metadata": {},
   "outputs": [],
   "source": []
  },
  {
   "cell_type": "code",
   "execution_count": null,
   "metadata": {},
   "outputs": [],
   "source": []
  },
  {
   "cell_type": "code",
   "execution_count": null,
   "metadata": {},
   "outputs": [],
   "source": []
  }
 ],
 "metadata": {
  "kernelspec": {
   "display_name": "Python 3",
   "language": "python",
   "name": "python3"
  },
  "language_info": {
   "codemirror_mode": {
    "name": "ipython",
    "version": 3
   },
   "file_extension": ".py",
   "mimetype": "text/x-python",
   "name": "python",
   "nbconvert_exporter": "python",
   "pygments_lexer": "ipython3",
   "version": "3.6.5"
  }
 },
 "nbformat": 4,
 "nbformat_minor": 2
}
