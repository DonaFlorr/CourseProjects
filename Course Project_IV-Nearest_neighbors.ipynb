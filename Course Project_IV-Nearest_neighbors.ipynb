{
 "cells": [
  {
   "cell_type": "markdown",
   "metadata": {},
   "source": [
    "## K-nearest neighbors classifier"
   ]
  },
  {
   "cell_type": "code",
   "execution_count": 1,
   "metadata": {},
   "outputs": [
    {
     "name": "stdout",
     "output_type": "stream",
     "text": [
      "['pixels', 'overfeat', 'labels', 'names', 'allow_pickle']\n"
     ]
    }
   ],
   "source": [
    "import numpy as np\n",
    "import pandas as pd\n",
    "\n",
    "with np.load('cifar4-train.npz', allow_pickle = False) as npz_file:\n",
    "    cifar4_data = dict(npz_file.items())\n",
    "    \n",
    "print(list(cifar4_data.keys()))"
   ]
  },
  {
   "cell_type": "code",
   "execution_count": 2,
   "metadata": {},
   "outputs": [
    {
     "name": "stdout",
     "output_type": "stream",
     "text": [
      "X: (5000, 4096) float32\n",
      "y: (5000,) int64\n",
      "names: ['truck' 'car' 'airplane' 'ship']\n"
     ]
    }
   ],
   "source": [
    "# Load data \n",
    "\n",
    "X = cifar4_data['overfeat']\n",
    "y = cifar4_data['labels']\n",
    "names = cifar4_data['names']\n",
    "\n",
    "print('X:', X.shape, X.dtype)\n",
    "print('y:', y.shape, y.dtype)\n",
    "print('names:', names)\n"
   ]
  },
  {
   "cell_type": "code",
   "execution_count": 3,
   "metadata": {},
   "outputs": [
    {
     "name": "stdout",
     "output_type": "stream",
     "text": [
      "Train set: (4000, 4096) (4000,)\n",
      "Test set (1000, 4096) (1000,)\n",
      "Pixel set (4000, 3072) (1000, 3072)\n"
     ]
    }
   ],
   "source": [
    "from sklearn.model_selection import train_test_split\n",
    "\n",
    "# Convert the type of the input matrix to float\n",
    "X = X.astype(np.float32)\n",
    "\n",
    "\n",
    "# Split data into train/test sets keeping same proportion of classes\n",
    "\n",
    "X_tr, X_te, y_tr, y_te, X_pix_tr, X_pix_te  = train_test_split(\n",
    "    X, y, cifar4_data['pixels'], train_size=4000, test_size=1000, random_state=0, stratify = y)\n",
    "\n",
    "print('Train set:', X_tr.shape, y_tr.shape)\n",
    "print('Test set', X_te.shape, y_te.shape)\n",
    "print('Pixel set', X_pix_tr.shape, X_pix_te.shape)"
   ]
  },
  {
   "cell_type": "code",
   "execution_count": 4,
   "metadata": {},
   "outputs": [
    {
     "name": "stdout",
     "output_type": "stream",
     "text": [
      "Accuracy: 0.756\n"
     ]
    }
   ],
   "source": [
    "from sklearn.neighbors import KNeighborsClassifier\n",
    "from sklearn.preprocessing import StandardScaler\n",
    "from sklearn.decomposition import PCA\n",
    "from sklearn.pipeline import Pipeline\n",
    "from sklearn.model_selection import ParameterGrid\n",
    "\n",
    "\n",
    "#Create a Pipeline with PCA and KNeighborsClassifier steps\n",
    "\n",
    "pipe = Pipeline([\n",
    "    ('scaler', StandardScaler()),\n",
    "    ('pca', PCA(n_components=165)), #Set number of components to retain 90% of the variance, it is 165\n",
    "    ('knn', KNeighborsClassifier(algorithm='brute', n_jobs=-1))\n",
    "])\n",
    "\n",
    "pipe.fit(X_tr, y_tr)\n",
    "accuracy = pipe.score(X_te, y_te)\n",
    "print('Accuracy:', accuracy)"
   ]
  },
  {
   "cell_type": "code",
   "execution_count": 5,
   "metadata": {},
   "outputs": [
    {
     "name": "stdout",
     "output_type": "stream",
     "text": [
      "Small train set: (3200, 4096) (3200,)\n",
      "Validation set: (800, 4096) (800,)\n"
     ]
    }
   ],
   "source": [
    "# Split train set into train/validation sets, keeping same proportion of classes\n",
    "X_tr_s, X_val, y_tr_s, y_val = train_test_split(X_tr, y_tr, train_size=3200, test_size=800, random_state=0, stratify = y_tr)\n",
    "\n",
    "print('Small train set:', X_tr_s.shape, y_tr_s.shape)\n",
    "print('Validation set:', X_val.shape, y_val.shape)"
   ]
  },
  {
   "cell_type": "code",
   "execution_count": 10,
   "metadata": {},
   "outputs": [
    {
     "name": "stdout",
     "output_type": "stream",
     "text": [
      "Number of combinations: 20\n"
     ]
    }
   ],
   "source": [
    "#Tune k and distance metric using grid search\n",
    "grid = ParameterGrid({\n",
    "    'knn__n_neighbors': [10, 15, 20, 25, 30, 35, 40, 50, 70, 100], \n",
    "    'knn__p': [1, 2], \n",
    "})\n",
    "\n",
    "print('Number of combinations:', len(grid))"
   ]
  },
  {
   "cell_type": "code",
   "execution_count": 11,
   "metadata": {},
   "outputs": [
    {
     "name": "stdout",
     "output_type": "stream",
     "text": [
      "Combination 1/20\n",
      "Combination 2/20\n",
      "Combination 3/20\n",
      "Combination 4/20\n",
      "Combination 5/20\n",
      "Combination 6/20\n",
      "Combination 7/20\n",
      "Combination 8/20\n",
      "Combination 9/20\n",
      "Combination 10/20\n",
      "Combination 11/20\n",
      "Combination 12/20\n",
      "Combination 13/20\n",
      "Combination 14/20\n",
      "Combination 15/20\n",
      "Combination 16/20\n",
      "Combination 17/20\n",
      "Combination 18/20\n",
      "Combination 19/20\n",
      "Combination 20/20\n",
      "done\n"
     ]
    }
   ],
   "source": [
    "# Save accuracy on validation set\n",
    "validation_scores = []\n",
    "\n",
    "for i, params_dict in enumerate(grid, 1):\n",
    "    print('Combination {}/{}'.format(\n",
    "        i, len(grid) \n",
    "    ))\n",
    "        \n",
    "    pipe.set_params(**params_dict)\n",
    "    pipe.fit(X_tr_s, y_tr_s)\n",
    "    params_dict['accuracy'] = pipe.score(X_val, y_val)\n",
    "    validation_scores.append(params_dict)\n",
    "\n",
    "print('done')"
   ]
  },
  {
   "cell_type": "code",
   "execution_count": 12,
   "metadata": {},
   "outputs": [
    {
     "data": {
      "text/html": [
       "<div>\n",
       "<style scoped>\n",
       "    .dataframe tbody tr th:only-of-type {\n",
       "        vertical-align: middle;\n",
       "    }\n",
       "\n",
       "    .dataframe tbody tr th {\n",
       "        vertical-align: top;\n",
       "    }\n",
       "\n",
       "    .dataframe thead th {\n",
       "        text-align: right;\n",
       "    }\n",
       "</style>\n",
       "<table border=\"1\" class=\"dataframe\">\n",
       "  <thead>\n",
       "    <tr style=\"text-align: right;\">\n",
       "      <th></th>\n",
       "      <th>accuracy</th>\n",
       "      <th>knn__n_neighbors</th>\n",
       "      <th>knn__p</th>\n",
       "    </tr>\n",
       "  </thead>\n",
       "  <tbody>\n",
       "    <tr>\n",
       "      <th>11</th>\n",
       "      <td>0.77750</td>\n",
       "      <td>35</td>\n",
       "      <td>2</td>\n",
       "    </tr>\n",
       "    <tr>\n",
       "      <th>15</th>\n",
       "      <td>0.77250</td>\n",
       "      <td>50</td>\n",
       "      <td>2</td>\n",
       "    </tr>\n",
       "    <tr>\n",
       "      <th>7</th>\n",
       "      <td>0.77250</td>\n",
       "      <td>25</td>\n",
       "      <td>2</td>\n",
       "    </tr>\n",
       "    <tr>\n",
       "      <th>17</th>\n",
       "      <td>0.77125</td>\n",
       "      <td>70</td>\n",
       "      <td>2</td>\n",
       "    </tr>\n",
       "    <tr>\n",
       "      <th>9</th>\n",
       "      <td>0.77125</td>\n",
       "      <td>30</td>\n",
       "      <td>2</td>\n",
       "    </tr>\n",
       "    <tr>\n",
       "      <th>8</th>\n",
       "      <td>0.76875</td>\n",
       "      <td>30</td>\n",
       "      <td>1</td>\n",
       "    </tr>\n",
       "    <tr>\n",
       "      <th>13</th>\n",
       "      <td>0.76875</td>\n",
       "      <td>40</td>\n",
       "      <td>2</td>\n",
       "    </tr>\n",
       "    <tr>\n",
       "      <th>2</th>\n",
       "      <td>0.76625</td>\n",
       "      <td>15</td>\n",
       "      <td>1</td>\n",
       "    </tr>\n",
       "    <tr>\n",
       "      <th>5</th>\n",
       "      <td>0.76625</td>\n",
       "      <td>20</td>\n",
       "      <td>2</td>\n",
       "    </tr>\n",
       "    <tr>\n",
       "      <th>12</th>\n",
       "      <td>0.76500</td>\n",
       "      <td>40</td>\n",
       "      <td>1</td>\n",
       "    </tr>\n",
       "    <tr>\n",
       "      <th>4</th>\n",
       "      <td>0.76250</td>\n",
       "      <td>20</td>\n",
       "      <td>1</td>\n",
       "    </tr>\n",
       "    <tr>\n",
       "      <th>3</th>\n",
       "      <td>0.76125</td>\n",
       "      <td>15</td>\n",
       "      <td>2</td>\n",
       "    </tr>\n",
       "    <tr>\n",
       "      <th>10</th>\n",
       "      <td>0.76000</td>\n",
       "      <td>35</td>\n",
       "      <td>1</td>\n",
       "    </tr>\n",
       "    <tr>\n",
       "      <th>16</th>\n",
       "      <td>0.76000</td>\n",
       "      <td>70</td>\n",
       "      <td>1</td>\n",
       "    </tr>\n",
       "    <tr>\n",
       "      <th>19</th>\n",
       "      <td>0.75875</td>\n",
       "      <td>100</td>\n",
       "      <td>2</td>\n",
       "    </tr>\n",
       "    <tr>\n",
       "      <th>6</th>\n",
       "      <td>0.75875</td>\n",
       "      <td>25</td>\n",
       "      <td>1</td>\n",
       "    </tr>\n",
       "    <tr>\n",
       "      <th>14</th>\n",
       "      <td>0.75750</td>\n",
       "      <td>50</td>\n",
       "      <td>1</td>\n",
       "    </tr>\n",
       "    <tr>\n",
       "      <th>18</th>\n",
       "      <td>0.75750</td>\n",
       "      <td>100</td>\n",
       "      <td>1</td>\n",
       "    </tr>\n",
       "    <tr>\n",
       "      <th>1</th>\n",
       "      <td>0.75000</td>\n",
       "      <td>10</td>\n",
       "      <td>2</td>\n",
       "    </tr>\n",
       "    <tr>\n",
       "      <th>0</th>\n",
       "      <td>0.74500</td>\n",
       "      <td>10</td>\n",
       "      <td>1</td>\n",
       "    </tr>\n",
       "  </tbody>\n",
       "</table>\n",
       "</div>"
      ],
      "text/plain": [
       "    accuracy  knn__n_neighbors  knn__p\n",
       "11   0.77750                35       2\n",
       "15   0.77250                50       2\n",
       "7    0.77250                25       2\n",
       "17   0.77125                70       2\n",
       "9    0.77125                30       2\n",
       "8    0.76875                30       1\n",
       "13   0.76875                40       2\n",
       "2    0.76625                15       1\n",
       "5    0.76625                20       2\n",
       "12   0.76500                40       1\n",
       "4    0.76250                20       1\n",
       "3    0.76125                15       2\n",
       "10   0.76000                35       1\n",
       "16   0.76000                70       1\n",
       "19   0.75875               100       2\n",
       "6    0.75875                25       1\n",
       "14   0.75750                50       1\n",
       "18   0.75750               100       1\n",
       "1    0.75000                10       2\n",
       "0    0.74500                10       1"
      ]
     },
     "execution_count": 12,
     "metadata": {},
     "output_type": "execute_result"
    }
   ],
   "source": [
    "# Create DataFrame with test scores\n",
    "scores_df = pd.DataFrame(validation_scores)\n",
    "\n",
    "# Print scores\n",
    "scores_df.sort_values(by='accuracy', ascending=False)"
   ]
  },
  {
   "cell_type": "code",
   "execution_count": 13,
   "metadata": {},
   "outputs": [
    {
     "name": "stdout",
     "output_type": "stream",
     "text": [
      "Top_accuracy on validation set: 0.78 with k=35 and distance metric=2\n"
     ]
    },
    {
     "name": "stderr",
     "output_type": "stream",
     "text": [
      "C:\\Users\\User1\\AppData\\Roaming\\Python\\Python36\\site-packages\\numpy\\core\\fromnumeric.py:56: FutureWarning: 'argmax' is deprecated. Use 'idxmax' instead. The behavior of 'argmax' will be corrected to return the positional maximum in the future. Use 'series.values.argmax' to get the position of the maximum now.\n",
      "  return getattr(obj, method)(*args, **kwds)\n"
     ]
    }
   ],
   "source": [
    "#Find the combination with the best validation accuracy and print it\n",
    "idx = np.argmax(scores_df.accuracy)\n",
    "top_accuracy = scores_df.accuracy[idx]\n",
    "k = scores_df.knn__n_neighbors[idx]\n",
    "d = scores_df.knn__p[idx]\n",
    "print('Top_accuracy on validation set: {:.2f} with k={} and distance metric={}'.format(top_accuracy, k, d))\n"
   ]
  },
  {
   "cell_type": "code",
   "execution_count": 14,
   "metadata": {},
   "outputs": [
    {
     "name": "stdout",
     "output_type": "stream",
     "text": [
      "k_NN Accuracy test set: 0.781\n"
     ]
    }
   ],
   "source": [
    "#fit k-NN classifier with tuned parameters to the entire train data set with 4000 data points\n",
    "#evaluate its accuracy on the test set\n",
    "\n",
    "pipe.set_params(knn__n_neighbors=35, knn__p=2)\n",
    "pipe.fit(X_tr, y_tr)\n",
    "accuracy=pipe.score(X_te,y_te)\n",
    "print('k_NN Accuracy test set:', accuracy)"
   ]
  },
  {
   "cell_type": "markdown",
   "metadata": {},
   "source": [
    "#### For the second task, pick a test image and plot it with its 10 nearest neighbors from the train set."
   ]
  },
  {
   "cell_type": "code",
   "execution_count": 15,
   "metadata": {},
   "outputs": [],
   "source": [
    "#Extract the PCA transformer and the  KNeighborsClassifier estimator from your pipeline.\n",
    "#Apply PCA to your test image and pass the result to the kneighbors(X, n_neighbors) function of your k-NN estimator. \n",
    "\n",
    "scaler = StandardScaler()\n",
    "X_tr_stand = scaler.fit_transform(X_tr)\n",
    "X_te_stand = scaler.fit_transform(X_te)\n",
    "\n",
    "#Pick an image from test set. Reshape it\n",
    "img = X_te_stand[11]\n",
    "img_new = img.reshape(1, -1)\n",
    "\n",
    "pca = PCA(n_components=165)\n",
    "pca.fit(X_tr_stand, y=None)\n",
    "\n",
    "X_tr_reduced = pca.transform(X_tr_stand)\n",
    "X_te_reduced = pca.transform(X_te_stand)\n",
    "\n",
    "knn = KNeighborsClassifier(n_neighbors = 10)\n",
    "knn.fit(X_tr_reduced, y_tr)\n",
    "\n",
    "X_img = pca.transform(img_new)\n",
    "distances, indices = knn.kneighbors(X_img, n_neighbors=10, return_distance=True)"
   ]
  },
  {
   "cell_type": "code",
   "execution_count": 16,
   "metadata": {},
   "outputs": [
    {
     "data": {
      "text/plain": [
       "(array([[60.48176328, 60.48888818, 60.5389622 , 61.1667621 , 61.46218343,\n",
       "         61.55481817, 61.9080836 , 61.94690905, 62.55388842, 62.56714033]]),\n",
       " array([[3313,  400,  157,  320, 3841, 1151, 1703, 2274, 2014,    3]],\n",
       "       dtype=int64))"
      ]
     },
     "execution_count": 16,
     "metadata": {},
     "output_type": "execute_result"
    }
   ],
   "source": [
    "distances, indices"
   ]
  },
  {
   "cell_type": "code",
   "execution_count": 17,
   "metadata": {},
   "outputs": [
    {
     "data": {
      "text/plain": [
       "(10, 3072)"
      ]
     },
     "execution_count": 17,
     "metadata": {},
     "output_type": "execute_result"
    }
   ],
   "source": [
    "img_set = X_pix_tr[indices[0]]\n",
    "img_set.shape"
   ]
  },
  {
   "cell_type": "code",
   "execution_count": 18,
   "metadata": {},
   "outputs": [
    {
     "data": {
      "text/plain": [
       "array([3313,  400,  157,  320, 3841, 1151, 1703, 2274, 2014,    3],\n",
       "      dtype=int64)"
      ]
     },
     "execution_count": 18,
     "metadata": {},
     "output_type": "execute_result"
    }
   ],
   "source": [
    "indices[0]"
   ]
  },
  {
   "cell_type": "code",
   "execution_count": 19,
   "metadata": {},
   "outputs": [
    {
     "data": {
      "text/plain": [
       "array([60.48176328, 60.48888818, 60.5389622 , 61.1667621 , 61.46218343,\n",
       "       61.55481817, 61.9080836 , 61.94690905, 62.55388842, 62.56714033])"
      ]
     },
     "execution_count": 19,
     "metadata": {},
     "output_type": "execute_result"
    }
   ],
   "source": [
    "distances[0]"
   ]
  },
  {
   "cell_type": "code",
   "execution_count": 20,
   "metadata": {},
   "outputs": [
    {
     "data": {
      "image/png": "[encoded data removed]",
      "text/plain": [
       "<matplotlib.figure.Figure at 0x1c20f7f0>"
      ]
     },
     "metadata": {
      "needs_background": "light"
     },
     "output_type": "display_data"
    },
    {
     "data": {
      "image/png": "[encoded data removed]",
      "text/plain": [
       "<matplotlib.figure.Figure at 0x2926f6a0>"
      ]
     },
     "metadata": {
      "needs_background": "light"
     },
     "output_type": "display_data"
    }
   ],
   "source": [
    "%matplotlib inline\n",
    "import matplotlib.pyplot as plt\n",
    "import seaborn as sns\n",
    "\n",
    "test_img_flat = X_pix_te[11]\n",
    "test_img = test_img_flat.reshape(32,32,3)\n",
    "plt.figure(figsize=(2,2))\n",
    "plt.imshow(test_img)\n",
    "plt.title('Test image')\n",
    "plt.show()\n",
    "\n",
    "fig, axes = plt.subplots(nrows=1, ncols=10, figsize=(20,5))\n",
    "\n",
    "\n",
    "for i, axis in enumerate(axes):\n",
    "    flat_img=img_set[i]\n",
    "    img_fin=flat_img.reshape(32,32,3)\n",
    "    \n",
    "    axis.set_title('d: {:.2f}'.format(distances[0][i]))\n",
    "    axis.imshow(img_fin)\n",
    "    axis.get_xaxis().set_visible(False)\n",
    "    axis.get_yaxis().set_visible(False)\n",
    "    \n",
    "\n",
    "plt.show()"
   ]
  }
 ],
 "metadata": {
  "kernelspec": {
   "display_name": "Python 3",
   "language": "python",
   "name": "python3"
  },
  "language_info": {
   "codemirror_mode": {
    "name": "ipython",
    "version": 3
   },
   "file_extension": ".py",
   "mimetype": "text/x-python",
   "name": "python",
   "nbconvert_exporter": "python",
   "pygments_lexer": "ipython3",
   "version": "3.6.4"
  }
 },
 "nbformat": 4,
 "nbformat_minor": 2
}
