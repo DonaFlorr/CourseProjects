{
 "cells": [
  {
   "cell_type": "markdown",
   "metadata": {},
   "source": [
    "## Decision trees and random forests"
   ]
  },
  {
   "cell_type": "code",
   "execution_count": 1,
   "metadata": {},
   "outputs": [
    {
     "name": "stdout",
     "output_type": "stream",
     "text": [
      "['pixels', 'overfeat', 'labels', 'names', 'allow_pickle']\n",
      "X: (5000, 4096) float32\n",
      "y: (5000,) int64\n"
     ]
    }
   ],
   "source": [
    "#Create a decision tree classifier. Tune its depth and plot the validation curve.\n",
    "\n",
    "import numpy as np\n",
    "import pandas as pd\n",
    "\n",
    "with np.load('cifar4-train.npz', allow_pickle = False) as npz_file:\n",
    "    cifar4_data = dict(npz_file.items())\n",
    "    \n",
    "print(list(cifar4_data.keys()))\n",
    "\n",
    "\n",
    "X = cifar4_data['overfeat']\n",
    "y = cifar4_data['labels']\n",
    "\n",
    "print('X:', X.shape, X.dtype)\n",
    "print('y:', y.shape, y.dtype)"
   ]
  },
  {
   "cell_type": "code",
   "execution_count": 2,
   "metadata": {},
   "outputs": [
    {
     "name": "stdout",
     "output_type": "stream",
     "text": [
      "Train set: (4000, 4096) (4000,)\n",
      "Test set: (1000, 4096) (1000,)\n"
     ]
    }
   ],
   "source": [
    "from sklearn.model_selection import train_test_split\n",
    "\n",
    "# Convert the type of the input matrix to float\n",
    "X = X.astype(np.float)\n",
    "\n",
    "# Split data into train/test sets, keeping same proportion of classes\n",
    "X_tr, X_te, y_tr, y_te = train_test_split(X, y, train_size=4000, test_size=1000, random_state=0, stratify=y)\n",
    "\n",
    "print ('Train set:', X_tr.shape, y_tr.shape)\n",
    "print('Test set:', X_te.shape, y_te.shape)"
   ]
  },
  {
   "cell_type": "code",
   "execution_count": 3,
   "metadata": {},
   "outputs": [
    {
     "name": "stdout",
     "output_type": "stream",
     "text": [
      "Small train set: (3200, 4096) (3200,)\n",
      "Validation set: (800, 4096) (800,)\n"
     ]
    }
   ],
   "source": [
    "#Split the train set into a (smaller) train and validation sets with respectively 3,200 and 800 points.\n",
    "\n",
    "X_tr_s, X_val, y_tr_s, y_val = train_test_split(X_tr, y_tr, train_size=3200, test_size=800, random_state=0, stratify=y_tr)\n",
    "\n",
    "print('Small train set:', X_tr_s.shape, y_tr_s.shape)\n",
    "print('Validation set:', X_val.shape, y_val.shape)"
   ]
  },
  {
   "cell_type": "code",
   "execution_count": 4,
   "metadata": {},
   "outputs": [],
   "source": [
    "#Decision tree classifier\n",
    "\n",
    "from sklearn.tree import DecisionTreeClassifier\n",
    "\n",
    "dt = DecisionTreeClassifier(criterion='gini', max_depth=2, random_state=0)\n",
    "\n",
    "\n",
    "# use PCA as a preprocessing step as number of features is large it seems reasonable to reduce number of dimensions \n",
    "    #and make data less redundant\n",
    "    \n",
    "from sklearn.preprocessing import StandardScaler\n",
    "from sklearn.decomposition import PCA\n",
    "\n",
    "scaler = StandardScaler()\n",
    "X_tr_s_stand = scaler.fit_transform(X_tr_s)\n",
    "X_val_stand = scaler.transform(X_val)\n",
    "\n",
    "pca = PCA(n_components = 60) #keep 80% PVE\n",
    "pca.fit(X_tr_s_stand, y=None)\n",
    "\n",
    "X_tr_s_reduced = pca.transform(X_tr_s_stand)\n",
    "X_val_reduced = pca.transform(X_val_stand)\n"
   ]
  },
  {
   "cell_type": "code",
   "execution_count": 5,
   "metadata": {},
   "outputs": [
    {
     "data": {
      "image/png": "[encoded data removed]",
      "text/plain": [
       "<matplotlib.figure.Figure at 0x29bc630>"
      ]
     },
     "metadata": {
      "needs_background": "light"
     },
     "output_type": "display_data"
    }
   ],
   "source": [
    "#Tune the depth parameter using grid search and plot the validation curve as described. Write your observations.\n",
    "\n",
    "depths = np.arange(1, 11)\n",
    "\n",
    "train_curve = []\n",
    "validation_curve = []\n",
    "\n",
    "for d in depths:\n",
    "    dt = DecisionTreeClassifier(criterion='gini', max_depth = d, random_state=0)\n",
    "    dt.fit(X_tr_s_stand, y_tr_s)\n",
    "\n",
    "    train_acc = dt.score(X_tr_s_stand, y_tr_s)\n",
    "    validation_acc = dt.score(X_val_stand, y_val)\n",
    "    \n",
    "    train_curve.append(train_acc)\n",
    "    validation_curve.append(validation_acc)\n",
    "\n",
    "\n",
    "%matplotlib inline\n",
    "import matplotlib.pyplot as plt\n",
    "\n",
    "plt.plot(depths, train_curve, label='train')\n",
    "plt.plot(depths, validation_curve, label='validation')\n",
    "plt.legend()\n",
    "plt.title('Validation accuracy')\n",
    "plt.xlabel('Depth')\n",
    "plt.ylabel('Accuracy')\n",
    "plt.show()"
   ]
  },
  {
   "cell_type": "markdown",
   "metadata": {},
   "source": [
    "Both train and validation curves are improving 'together' between 0 and 2, then train curve keeps increasing, which is sign of overfitting, while validation curve reaches a plateau."
   ]
  },
  {
   "cell_type": "code",
   "execution_count": 6,
   "metadata": {},
   "outputs": [
    {
     "data": {
      "text/html": [
       "<div>\n",
       "<style scoped>\n",
       "    .dataframe tbody tr th:only-of-type {\n",
       "        vertical-align: middle;\n",
       "    }\n",
       "\n",
       "    .dataframe tbody tr th {\n",
       "        vertical-align: top;\n",
       "    }\n",
       "\n",
       "    .dataframe thead th {\n",
       "        text-align: right;\n",
       "    }\n",
       "</style>\n",
       "<table border=\"1\" class=\"dataframe\">\n",
       "  <thead>\n",
       "    <tr style=\"text-align: right;\">\n",
       "      <th></th>\n",
       "      <th>accuracy_train</th>\n",
       "      <th>accuracy_validation</th>\n",
       "      <th>max_depth</th>\n",
       "    </tr>\n",
       "  </thead>\n",
       "  <tbody>\n",
       "    <tr>\n",
       "      <th>4</th>\n",
       "      <td>0.720313</td>\n",
       "      <td>0.60000</td>\n",
       "      <td>5</td>\n",
       "    </tr>\n",
       "    <tr>\n",
       "      <th>5</th>\n",
       "      <td>0.775625</td>\n",
       "      <td>0.59875</td>\n",
       "      <td>6</td>\n",
       "    </tr>\n",
       "    <tr>\n",
       "      <th>7</th>\n",
       "      <td>0.904375</td>\n",
       "      <td>0.59500</td>\n",
       "      <td>8</td>\n",
       "    </tr>\n",
       "    <tr>\n",
       "      <th>6</th>\n",
       "      <td>0.845938</td>\n",
       "      <td>0.59000</td>\n",
       "      <td>7</td>\n",
       "    </tr>\n",
       "    <tr>\n",
       "      <th>8</th>\n",
       "      <td>0.947812</td>\n",
       "      <td>0.57500</td>\n",
       "      <td>9</td>\n",
       "    </tr>\n",
       "    <tr>\n",
       "      <th>9</th>\n",
       "      <td>0.970938</td>\n",
       "      <td>0.56875</td>\n",
       "      <td>10</td>\n",
       "    </tr>\n",
       "    <tr>\n",
       "      <th>3</th>\n",
       "      <td>0.663750</td>\n",
       "      <td>0.56500</td>\n",
       "      <td>4</td>\n",
       "    </tr>\n",
       "    <tr>\n",
       "      <th>2</th>\n",
       "      <td>0.615938</td>\n",
       "      <td>0.56125</td>\n",
       "      <td>3</td>\n",
       "    </tr>\n",
       "    <tr>\n",
       "      <th>1</th>\n",
       "      <td>0.578438</td>\n",
       "      <td>0.54500</td>\n",
       "      <td>2</td>\n",
       "    </tr>\n",
       "    <tr>\n",
       "      <th>0</th>\n",
       "      <td>0.416250</td>\n",
       "      <td>0.39375</td>\n",
       "      <td>1</td>\n",
       "    </tr>\n",
       "  </tbody>\n",
       "</table>\n",
       "</div>"
      ],
      "text/plain": [
       "   accuracy_train  accuracy_validation  max_depth\n",
       "4        0.720313              0.60000          5\n",
       "5        0.775625              0.59875          6\n",
       "7        0.904375              0.59500          8\n",
       "6        0.845938              0.59000          7\n",
       "8        0.947812              0.57500          9\n",
       "9        0.970938              0.56875         10\n",
       "3        0.663750              0.56500          4\n",
       "2        0.615938              0.56125          3\n",
       "1        0.578438              0.54500          2\n",
       "0        0.416250              0.39375          1"
      ]
     },
     "execution_count": 6,
     "metadata": {},
     "output_type": "execute_result"
    }
   ],
   "source": [
    "dt_df = pd.DataFrame({'max_depth':depths, 'accuracy_train':train_curve, 'accuracy_validation':validation_curve})\n",
    "dt_df.sort_values(by='accuracy_validation', ascending=False)"
   ]
  },
  {
   "cell_type": "code",
   "execution_count": 7,
   "metadata": {},
   "outputs": [
    {
     "name": "stdout",
     "output_type": "stream",
     "text": [
      "Top accuracy on validation set: 0.60 with depth=5\n"
     ]
    }
   ],
   "source": [
    "#Find the depth with the best validation accuracy and print it.\n",
    "idx = np.argmax(validation_curve)\n",
    "top_accuracy = validation_curve[idx]\n",
    "dep = depths[idx]\n",
    "print('Top accuracy on validation set: {:.2f} with depth={}'.format(top_accuracy, dep))"
   ]
  },
  {
   "cell_type": "markdown",
   "metadata": {},
   "source": [
    "#### Create a random forest classifier. Try different sizes of ensemble."
   ]
  },
  {
   "cell_type": "code",
   "execution_count": 10,
   "metadata": {},
   "outputs": [],
   "source": [
    "#Create a random forest classifier. Try different sizes of ensemble.\n",
    "\n",
    "from sklearn.ensemble import RandomForestClassifier\n",
    "\n",
    "values = np.arange(50, 251, 50)\n",
    "accuracy = []\n",
    "\n",
    "for value in values:\n",
    "    rf = RandomForestClassifier(n_estimators=value, max_depth=None, random_state=0)\n",
    "    rf.fit(X_tr_s_stand, y_tr_s)\n",
    "    \n",
    "    acc= rf.score(X_val_stand, y_val)\n",
    "    accuracy.append(acc)"
   ]
  },
  {
   "cell_type": "code",
   "execution_count": 20,
   "metadata": {},
   "outputs": [
    {
     "data": {
      "text/html": [
       "<div>\n",
       "<style scoped>\n",
       "    .dataframe tbody tr th:only-of-type {\n",
       "        vertical-align: middle;\n",
       "    }\n",
       "\n",
       "    .dataframe tbody tr th {\n",
       "        vertical-align: top;\n",
       "    }\n",
       "\n",
       "    .dataframe thead th {\n",
       "        text-align: right;\n",
       "    }\n",
       "</style>\n",
       "<table border=\"1\" class=\"dataframe\">\n",
       "  <thead>\n",
       "    <tr style=\"text-align: right;\">\n",
       "      <th></th>\n",
       "      <th>n_estimators</th>\n",
       "      <th>validation accuracy</th>\n",
       "    </tr>\n",
       "  </thead>\n",
       "  <tbody>\n",
       "    <tr>\n",
       "      <th>1</th>\n",
       "      <td>100</td>\n",
       "      <td>0.79250</td>\n",
       "    </tr>\n",
       "    <tr>\n",
       "      <th>3</th>\n",
       "      <td>200</td>\n",
       "      <td>0.79000</td>\n",
       "    </tr>\n",
       "    <tr>\n",
       "      <th>4</th>\n",
       "      <td>250</td>\n",
       "      <td>0.78625</td>\n",
       "    </tr>\n",
       "    <tr>\n",
       "      <th>2</th>\n",
       "      <td>150</td>\n",
       "      <td>0.78500</td>\n",
       "    </tr>\n",
       "    <tr>\n",
       "      <th>0</th>\n",
       "      <td>50</td>\n",
       "      <td>0.76250</td>\n",
       "    </tr>\n",
       "  </tbody>\n",
       "</table>\n",
       "</div>"
      ],
      "text/plain": [
       "   n_estimators  validation accuracy\n",
       "1           100              0.79250\n",
       "3           200              0.79000\n",
       "4           250              0.78625\n",
       "2           150              0.78500\n",
       "0            50              0.76250"
      ]
     },
     "execution_count": 20,
     "metadata": {},
     "output_type": "execute_result"
    }
   ],
   "source": [
    "#Collect the results in a DataFrame.\n",
    "\n",
    "results_df = pd.DataFrame({'n_estimators':values, 'validation accuracy':accuracy})\n",
    "\n",
    "results_df.sort_values(by='validation accuracy', ascending=False)"
   ]
  },
  {
   "cell_type": "markdown",
   "metadata": {},
   "source": [
    "###### Finally, fit your (tuned) decision tree and random forest estimators on the entire train set with 4,000 data points and evaluate them on the test set. Print the accuracy values."
   ]
  },
  {
   "cell_type": "code",
   "execution_count": 21,
   "metadata": {},
   "outputs": [],
   "source": [
    "#decision tree\n",
    "dt_tuned = DecisionTreeClassifier(criterion='gini', max_depth=5, random_state=0)\n",
    "\n",
    "dt_tuned.fit(X_tr, y_tr)\n",
    "dt_accuracy=dt_tuned.score(X_te, y_te)\n"
   ]
  },
  {
   "cell_type": "code",
   "execution_count": 22,
   "metadata": {},
   "outputs": [],
   "source": [
    "#random forest\n",
    "rf_tuned = RandomForestClassifier(n_estimators=100, max_depth=None, random_state=0)\n",
    "\n",
    "rf_tuned.fit(X_tr, y_tr)\n",
    "rf_accuracy = rf_tuned.score(X_te, y_te)"
   ]
  },
  {
   "cell_type": "code",
   "execution_count": 23,
   "metadata": {},
   "outputs": [
    {
     "name": "stdout",
     "output_type": "stream",
     "text": [
      "Decision tree accuracy (test set): 0.658\n",
      "Random forest accuracy (test set): 0.791\n"
     ]
    }
   ],
   "source": [
    "print('Decision tree accuracy (test set):', dt_accuracy)\n",
    "print('Random forest accuracy (test set):', rf_accuracy)"
   ]
  },
  {
   "cell_type": "code",
   "execution_count": null,
   "metadata": {},
   "outputs": [],
   "source": []
  }
 ],
 "metadata": {
  "kernelspec": {
   "display_name": "Python 3",
   "language": "python",
   "name": "python3"
  },
  "language_info": {
   "codemirror_mode": {
    "name": "ipython",
    "version": 3
   },
   "file_extension": ".py",
   "mimetype": "text/x-python",
   "name": "python",
   "nbconvert_exporter": "python",
   "pygments_lexer": "ipython3",
   "version": "3.6.4"
  }
 },
 "nbformat": 4,
 "nbformat_minor": 2
}
